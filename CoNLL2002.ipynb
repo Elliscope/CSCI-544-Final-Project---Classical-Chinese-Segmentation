{
 "cells": [
  {
   "cell_type": "code",
   "execution_count": 1,
   "metadata": {
    "collapsed": true
   },
   "outputs": [],
   "source": [
    "%matplotlib inline\n",
    "import matplotlib.pyplot as plt\n",
    "plt.style.use('ggplot')"
   ]
  },
  {
   "cell_type": "markdown",
   "metadata": {},
   "source": [
    "## Let's use CoNLL 2002 data to build a NER system\n",
    "\n",
    "CoNLL2002 corpus is available in NLTK. We use Spanish data."
   ]
  },
  {
   "cell_type": "code",
   "execution_count": 2,
   "metadata": {
    "collapsed": false
   },
   "outputs": [
    {
     "name": "stderr",
     "output_type": "stream",
     "text": [
      "/Users/Elliscope/anaconda/lib/python2.7/site-packages/sklearn/cross_validation.py:44: DeprecationWarning: This module was deprecated in version 0.18 in favor of the model_selection module into which all the refactored classes and functions are moved. Also note that the interface of the new CV iterators are different from that of this module. This module will be removed in 0.20.\n",
      "  \"This module will be removed in 0.20.\", DeprecationWarning)\n",
      "/Users/Elliscope/anaconda/lib/python2.7/site-packages/sklearn/grid_search.py:43: DeprecationWarning: This module was deprecated in version 0.18 in favor of the model_selection module into which all the refactored classes and functions are moved. This module will be removed in 0.20.\n",
      "  DeprecationWarning)\n"
     ]
    }
   ],
   "source": [
    "from itertools import chain\n",
    "\n",
    "import nltk\n",
    "import sklearn\n",
    "import scipy.stats\n",
    "from sklearn.metrics import make_scorer\n",
    "from sklearn.grid_search import RandomizedSearchCV\n",
    "\n",
    "import sklearn_crfsuite\n",
    "from sklearn_crfsuite import scorers\n",
    "from sklearn_crfsuite import metrics"
   ]
  },
  {
   "cell_type": "code",
   "execution_count": 3,
   "metadata": {
    "collapsed": false
   },
   "outputs": [],
   "source": [
    "\n",
    "#nltk.corpus.conll2002.fileids()\n",
    "segmented_corpus_dic = []\n",
    "test_corpus = []\n",
    "new_sentence_1 = []\n",
    "new_sentence_2 = []\n",
    "\n",
    "def read_in_corpus(line,dic,new_sentence):\n",
    "     array = line.split(' ')\n",
    "     tup1 = ()\n",
    "     if array[2] == 'I\\n':\n",
    "            dic.append(new_sentence)\n",
    "            new_sentence = []\n",
    "     tupl = (array[0],array[1],array[2])\n",
    "     #for string in array:\n",
    "        #new_pair.append(string)\n",
    "     new_sentence.append(tupl)\n",
    "        \n",
    "with open(\"Sheffield_Converter/ru008_000c.txt\") as fl:\n",
    "    for line in fl:\n",
    "      read_in_corpus(line,segmented_corpus_dic,new_sentence_1)\n",
    "\n",
    "with open(\"Sheffield_Converter/sh007_000c.txt\") as ft:\n",
    "    for line in ft:\n",
    "        read_in_corpus(line,test_corpus,new_sentence_2)\n",
    "        "
   ]
  },
  {
   "cell_type": "code",
   "execution_count": 4,
   "metadata": {
    "collapsed": false
   },
   "outputs": [
    {
     "name": "stdout",
     "output_type": "stream",
     "text": [
      "CPU times: user 47 µs, sys: 31 µs, total: 78 µs\n",
      "Wall time: 80.1 µs\n"
     ]
    }
   ],
   "source": [
    "%%time\n",
    "train_sents = list(segmented_corpus_dic)\n",
    "test_sents = list(test_corpus)"
   ]
  },
  {
   "cell_type": "code",
   "execution_count": 5,
   "metadata": {
    "collapsed": false
   },
   "outputs": [
    {
     "name": "stdout",
     "output_type": "stream",
     "text": [
      "[('\\xe8\\xa7\\x80', 'noun', 'N\\n'), ('\\xe5\\xaf\\x9f', 'noun', 'N\\n'), ('\\xe5\\xad\\x90', 'noun', 'N\\n'), ('\\xe4\\xba\\xa4', 'noun', 'N\\n'), ('\\xe5\\xa4\\x96', 'noun', 'N\\n'), ('\\xe5\\x81\\x87', 'verb', 'N\\n'), ('\\xe7\\x8f\\xad', 'noun', 'N\\n'), ('\\xe9\\x8c\\x84', 'noun', 'N\\n'), ('\\xe5\\x96\\x9c', 'verb', 'N\\n'), ('\\xe5\\xa4\\x96', 'noun', 'N\\n'), ('\\xe4\\xba\\x8b', 'noun', 'N\\n'), ('\\xe9\\x8c\\x84', 'noun', 'N\\n'), ('\\xe5\\x96\\xae', 'noun', 'N\\n'), ('\\xe9\\x81\\x93', 'verb', 'N\\n'), ('\\xe6\\x92\\xab', 'noun', 'N\\n'), ('\\xe4\\xba\\x8b', 'noun', 'N\\n'), ('\\xe6\\x98\\x8c', 'noun', 'N\\n'), ('\\xe5\\xba\\x9c', 'noun', 'N\\n'), ('\\xe5\\x93\\xa1', 'noun', 'N\\n'), ('\\xe6\\xb1\\x9f', 'noun', 'N\\n'), ('\\xe5\\x9c\\xb0', 'noun', 'N\\n'), ('\\xe6\\xbf\\x9f', 'verb', 'N\\n'), ('\\xe6\\x97\\xa8', 'verb', 'N\\n'), ('\\xe9\\x81\\xb8', 'verb', 'N\\n'), ('\\xe6\\x97\\xa8', 'verb', 'N\\n'), ('\\xe6\\x98\\x8c', 'noun', 'N\\n'), ('\\xe5\\xba\\x9c', 'noun', 'N\\n'), ('\\xe5\\xba\\x9c', 'noun', 'N\\n'), ('\\xe5\\x93\\xa1', 'noun', 'N\\n'), ('\\xe5\\xa4\\x96', 'noun', 'N\\n'), ('\\xe6\\x83\\xa0', 'noun', 'N\\n'), ('\\xe6\\x8e\\x88', 'verb', 'N\\n'), ('\\xe5\\xa4\\x96', 'noun', 'N\\n'), ('\\xe5\\x96\\x9c', 'verb', 'N\\n'), ('\\xe9\\xa3\\xaf', 'noun', 'N\\n'), ('\\xe6\\x81\\xa9', 'verb', 'N\\n'), ('\\xe7\\x90\\x86', 'verb', 'N\\n'), ('\\xe8\\xa3\\x9d', 'noun', 'N\\n'), ('\\xe8\\xa5\\xbf', 'noun', 'N\\n'), ('\\xe8\\xa5\\xbf', 'noun', 'N\\n'), ('\\xe5\\x9f\\x8e', 'noun', 'N\\n'), ('\\xe6\\x98\\x8c', 'noun', 'N\\n'), ('\\xe5\\xba\\x9c', 'noun', 'N\\n'), ('\\xe4\\xbb\\xbb', 'noun', 'N\\n'), ('\\xe5\\xae\\x88', 'noun', 'N\\n'), ('\\xe6\\xb1\\x9f', 'noun', 'N\\n'), ('\\xe8\\x88\\x88', 'noun', 'N\\n'), ('\\xe5\\xa3\\xab', 'noun', 'N\\n'), ('\\xe9\\x96\\x80', 'noun', 'N\\n'), ('\\xe5\\x8b\\x99', 'noun', 'N\\n'), ('\\xe5\\xae\\x88', 'noun', 'N\\n'), ('\\xe8\\xa6\\x8b', 'verb', 'N\\n'), ('\\xe5\\xae\\x88', 'noun', 'N\\n'), ('\\xe6\\x83\\xa0', 'noun', 'N\\n'), ('\\xe7\\x9b\\xa4', 'verb', 'N\\n'), ('\\xe5\\xb7\\xae', 'noun', 'N\\n'), ('\\xe5\\xae\\x88', 'noun', 'N\\n'), ('\\xe5\\xae\\x88', 'noun', 'N\\n'), ('\\xe8\\xaa\\xaa', 'verb', 'N\\n'), ('\\xe7\\x88\\xba', 'noun', 'N\\n'), ('\\xe6\\x9c\\xb6', 'noun', 'N\\n'), ('\\xe8\\xa9\\xb1', 'verb', 'N\\n'), ('\\xe7\\x99\\xbd', 'verb', 'N\\n'), ('\\xe7\\x9b\\xa4', 'verb', 'N\\n'), ('\\xe7\\x88\\xba', 'noun', 'N\\n'), ('\\xe7\\x99\\xbc', 'verb', 'N\\n'), ('\\xe7\\x88\\xba', 'noun', 'N\\n'), ('\\xe6\\x87\\x87', 'verb', 'N\\n'), ('\\xe8\\xa8\\x97', 'verb', 'N\\n'), ('\\xe7\\x88\\xba', 'noun', 'N\\n'), ('\\xe6\\x83\\xa0', 'noun', 'N\\n'), ('\\xe8\\xab\\xbe', 'verb', 'N\\n'), ('\\xe6\\xb2\\xbb', 'verb', 'N\\n'), ('\\xe9\\xa3\\xaf', 'noun', 'N\\n'), ('\\xe5\\xad\\x90', 'noun', 'N\\n'), ('\\xe9\\xa3\\xaf', 'noun', 'N\\n'), ('\\xe5\\xb8\\x96', 'noun', 'N\\n'), ('\\xe6\\x99\\x9a', 'noun', 'N\\n'), ('\\xe7\\x94\\x9f', 'noun', 'N\\n'), ('\\xe6\\x99\\xaf', 'noun', 'N\\n'), ('\\xe7\\x8e\\x89', 'noun', 'N\\n'), ('\\xe5\\xae\\x88', 'noun', 'N\\n'), ('\\xe9\\x96\\x80', 'noun', 'N\\n'), ('\\xe7\\x88\\xba', 'noun', 'N\\n'), ('\\xe5\\xae\\x88', 'noun', 'N\\n'), ('\\xe5\\xad\\x90', 'noun', 'N\\n'), ('\\xe7\\x84\\xb6', 'set_phrase', 'N\\n'), ('\\xe4\\xbf\\x8a', 'set_phrase', 'N\\n'), ('\\xe9\\x9b\\x85', 'set_phrase', 'N\\n'), ('\\xe5\\x8b\\x95', 'set_phrase', 'N\\n'), ('\\xe4\\xb8\\x8d', 'set_phrase', 'N\\n'), ('\\xe7\\xbe\\xa3', 'set_phrase', 'N\\n'), ('\\xe5\\xae\\x88', 'noun', 'N\\n'), ('\\xe5\\x85\\xac', 'noun', 'N\\n'), ('\\xe7\\x9e\\xbb', 'set_phrase', 'N\\n'), ('\\xe4\\xb8\\xb0', 'set_phrase', 'N\\n'), ('\\xe9\\x87\\x87', 'set_phrase', 'N\\n'), ('\\xe5\\xad\\x90', 'noun', 'N\\n'), ('\\xe7\\x97\\x85', 'noun', 'N\\n'), ('\\xe5\\xbf\\xb5', 'verb', 'N\\n'), ('\\xe5\\xae\\x88', 'noun', 'N\\n'), ('\\xe8\\x87\\xba', 'noun', 'N\\n'), ('\\xe5\\xba\\x9a', 'noun', 'N\\n'), ('\\xe5\\xad\\x90', 'noun', 'N\\n'), ('\\xe7\\x94\\x9f', 'noun', 'N\\n'), ('\\xe5\\xae\\x88', 'noun', 'N\\n'), ('\\xe5\\xad\\x90', 'noun', 'N\\n'), ('\\xe4\\xbb\\xa4', 'noun', 'N\\n'), ('\\xe7\\x94\\x9f', 'noun', 'N\\n'), ('\\xe9\\x9a\\xa8', 'verb', 'N\\n'), ('\\xe8\\x8c\\x83', 'noun', 'N\\n'), ('\\xe6\\x9d\\xb1', 'noun', 'N\\n'), ('\\xe5\\xad\\xb8', 'noun', 'N\\n'), ('\\xe5\\xb9\\x95', 'noun', 'N\\n'), ('\\xe6\\x9b\\xb8', 'verb', 'N\\n'), ('\\xe7\\x9c\\x8b', 'verb', 'N\\n'), ('\\xe5\\xad\\x90', 'noun', 'N\\n'), ('\\xe6\\x98\\x8c', 'noun', 'N\\n'), ('\\xe4\\xba\\x8b', 'verb', 'N\\n'), ('\\xe5\\xae\\x88', 'noun', 'N\\n'), ('\\xe7\\xa5\\x9e', 'set_phrase', 'N\\n'), ('\\xe6\\xad\\xa3', 'set_phrase', 'N\\n'), ('\\xe6\\x97\\xba', 'set_phrase', 'N\\n'), ('\\xe6\\xb5\\x81', 'set_phrase', 'N\\n'), ('\\xe5\\x8b\\x87', 'set_phrase', 'N\\n'), ('\\xe9\\x80\\x80', 'set_phrase', 'N\\n'), ('\\xe5\\xad\\x90', 'noun', 'N\\n'), ('\\xe6\\xb5\\xb7', 'set_phrase', 'N\\n'), ('\\xe9\\xa2\\xa8', 'set_phrase', 'N\\n'), ('\\xe6\\xb3\\xa2', 'set_phrase', 'N\\n'), ('\\xe6\\x89\\x8d', 'noun', 'N\\n'), ('\\xe7\\x94\\xa3', 'noun', 'N\\n'), ('\\xe7\\xb2\\xa5', 'noun', 'N\\n'), ('\\xe6\\x94\\x94', 'noun', 'N\\n'), ('\\xe6\\xa6\\xad', 'noun', 'N\\n'), ('\\xe9\\x81\\xa3', 'verb', 'N\\n'), ('\\xe5\\xa1\\xb5', 'set_phrase', 'N\\n'), ('\\xe5\\x8b\\x9e', 'set_phrase', 'N\\n'), ('\\xe6\\x94\\x98', 'set_phrase', 'N\\n'), ('\\xe6\\x9e\\x97', 'set_phrase', 'N\\n'), ('\\xe8\\xb1\\x90', 'set_phrase', 'N\\n'), ('\\xe8\\x8d\\x89', 'set_phrase', 'N\\n'), ('\\xe5\\xae\\x88', 'noun', 'N\\n'), ('\\xe8\\x87\\xba', 'noun', 'N\\n'), ('\\xe6\\x87\\xb7', 'set_phrase', 'N\\n'), ('\\xe9\\xab\\x98', 'set_phrase', 'N\\n'), ('\\xe6\\x9b\\xa0', 'set_phrase', 'N\\n'), ('\\xe7\\x84\\xb6', 'set_phrase', 'N\\n'), ('\\xe6\\x8c\\x82', 'set_phrase', 'N\\n'), ('\\xe5\\x86\\xa0', 'set_phrase', 'N\\n'), ('\\xe9\\x81\\x93', 'verb', 'N\\n'), ('\\xe7\\xa7\\x91', 'set_phrase', 'N\\n'), ('\\xe9\\xbc\\x8e', 'set_phrase', 'N\\n'), ('\\xe7\\x94\\xb2', 'set_phrase', 'N\\n'), ('\\xe5\\xad\\x90', 'noun', 'N\\n'), ('\\xe8\\xb3\\xa2', 'set_phrase', 'N\\n'), ('\\xe4\\xb8\\x8d', 'set_phrase', 'N\\n'), ('\\xe8\\x82\\x96', 'set_phrase', 'N\\n'), ('\\xe5\\x90\\x8d', 'noun', 'N\\n'), ('\\xe7\\x94\\x9f', 'noun', 'N\\n'), ('\\xe6\\xb0\\xb4', 'set_phrase', 'N\\n'), ('\\xe6\\x89\\xbf', 'set_phrase', 'N\\n'), ('\\xe6\\xad\\xa1', 'set_phrase', 'N\\n'), ('\\xe5\\xae\\x88', 'noun', 'N\\n'), ('\\xe6\\x9c\\x8d', 'noun', 'N\\n'), ('\\xe4\\xbb\\xa3', 'verb', 'N\\n'), ('\\xe5\\xae\\x88', 'noun', 'N\\n'), ('\\xe9\\x9b\\xa3', 'verb', 'N\\n'), ('\\xe5\\xad\\x90', 'noun', 'N\\n'), ('\\xe8\\xa1\\xa3', 'set_phrase', 'N\\n'), ('\\xe8\\x94\\xac', 'set_phrase', 'N\\n'), ('\\xe9\\xa3\\x9f', 'set_phrase', 'N\\n'), ('\\xe7\\x94\\x9f', 'noun', 'N\\n'), ('\\xe5\\xbe\\x91', 'noun', 'N\\n'), ('\\xe7\\xa9\\x80', 'noun', 'N\\n'), ('\\xe5\\x8c\\xb9', 'noun', 'N\\n'), ('\\xe5\\xb0\\x91', 'verb', 'N\\n'), ('\\xe8\\xa3\\x9c', 'verb', 'N\\n'), ('\\xe9\\x81\\x93', 'verb', 'N\\n'), ('\\xe5\\xae\\x98', 'noun', 'N\\n'), ('\\xe5\\x9b\\x8a', 'set_phrase', 'N\\n'), ('\\xe6\\xb7\\xb8', 'set_phrase', 'N\\n'), ('\\xe8\\x8b\\xa6', 'set_phrase', 'N\\n'), ('\\xe5\\xae\\x88', 'noun', 'N\\n'), ('\\xe6\\x96\\xb9', 'verb', 'N\\n'), ('\\xe5\\xbf\\xab', 'verb', 'N\\n'), ('\\xe5\\xbf\\x83', 'set_phrase', 'N\\n'), ('\\xe6\\xad\\xa1', 'set_phrase', 'N\\n'), ('\\xe5\\x96\\x9c', 'set_phrase', 'N\\n'), ('\\xe5\\xae\\x88', 'noun', 'N\\n'), ('\\xe9\\x81\\x93', 'verb', 'N\\n'), ('\\xe6\\x96\\xb9', 'noun', 'N\\n'), ('\\xe8\\xa8\\x9f', 'noun', 'N\\n'), ('\\xe8\\x9e\\x8d', 'verb', 'N\\n'), ('\\xe5\\xad\\x90', 'noun', 'N\\n'), ('\\xe6\\x98\\x8c', 'noun', 'N\\n'), ('\\xe9\\x87\\x8e', 'set_phrase', 'N\\n'), ('\\xe6\\x9c\\x89', 'set_phrase', 'N\\n'), ('\\xe8\\xa9\\x90', 'set_phrase', 'N\\n'), ('\\xe4\\xb8\\x8d', 'set_phrase', 'N\\n'), ('\\xe8\\xb6\\xb3', 'set_phrase', 'N\\n'), ('\\xe6\\x96\\xb9', 'noun', 'N\\n'), ('\\xe8\\xa8\\x9f', 'noun', 'N\\n'), ('\\xe8\\xa8\\x9f', 'noun', 'N\\n'), ('\\xe5\\xb8\\xb8', 'set_phrase', 'N\\n'), ('\\xe5\\x80\\xab', 'set_phrase', 'N\\n'), ('\\xe7\\xb4\\x80', 'set_phrase', 'N\\n'), ('\\xe4\\xba\\x8b', 'noun', 'N\\n'), ('\\xe5\\xa9\\x9a', 'set_phrase', 'N\\n'), ('\\xe7\\x94\\xb0', 'set_phrase', 'N\\n'), ('\\xe5\\x9c\\x9f', 'set_phrase', 'N\\n'), ('\\xe6\\x81\\xaf', 'verb', 'N\\n'), ('\\xe8\\x99\\x95', 'set_phrase', 'N\\n'), ('\\xe5\\x88\\xa9', 'set_phrase', 'N\\n'), ('\\xe8\\x97\\xaa', 'set_phrase', 'N\\n'), ('\\xe7\\x85\\xa9', 'verb', 'N\\n'), ('\\xe5\\x89\\x94', 'verb', 'N\\n'), ('\\xe7\\x94\\x9f', 'noun', 'N\\n'), ('\\xe9\\x81\\x93', 'set_phrase', 'N\\n'), ('\\xe6\\x96\\xbc', 'set_phrase', 'N\\n'), ('\\xe7\\x9b\\xb2', 'set_phrase', 'N\\n'), ('\\xe5\\xae\\x88', 'noun', 'N\\n'), ('\\xe9\\x81\\x93', 'verb', 'N\\n'), ('\\xe7\\x9f\\xa5', 'noun', 'N\\n'), ('\\xe5\\xba\\x9c', 'noun', 'N\\n'), ('\\xe8\\x8a\\xb1', 'noun', 'N\\n'), ('\\xe9\\x8a\\x80', 'noun', 'N\\n'), ('\\xe5\\xad\\x90', 'noun', 'N\\n'), ('\\xe9\\x99\\x8b', 'set_phrase', 'N\\n'), ('\\xe7\\xb0\\xa1', 'set_phrase', 'N\\n'), ('\\xe5\\x88\\x91', 'set_phrase', 'N\\n'), ('\\xe6\\xb7\\xb8', 'set_phrase', 'N\\n'), ('\\xe8\\xb3\\x93', 'noun', 'N\\n'), ('\\xe9\\x96\\x80', 'noun', 'N\\n'), ('\\xe4\\xbb\\xbb', 'noun', 'N\\n'), ('\\xe5\\x8f\\xb8', 'noun', 'N\\n'), ('\\xe9\\x81\\x93', 'verb', 'N\\n'), ('\\xe9\\x96\\x80', 'noun', 'N\\n'), ('\\xe6\\x81\\xaf', 'noun', 'N\\n'), ('\\xe5\\xae\\x88', 'noun', 'N\\n'), ('\\xe5\\xad\\x90', 'noun', 'N\\n'), ('\\xe5\\xae\\x88', 'noun', 'N\\n'), ('\\xe9\\x81\\x93', 'verb', 'N\\n'), ('\\xe6\\x81\\xaf', 'noun', 'N\\n'), ('\\xe8\\xb6\\xa3', 'verb', 'N\\n'), ('\\xe5\\xad\\x90', 'noun', 'N\\n'), ('\\xe6\\x81\\xaf', 'noun', 'N\\n'), ('\\xe5\\xae\\x88', 'noun', 'N\\n'), ('\\xe5\\xad\\x90', 'noun', 'N\\n'), ('\\xe5\\xad\\x90', 'noun', 'N\\n'), ('\\xe7\\x9b\\xa4', 'noun', 'N\\n'), ('\\xe5\\xad\\x90', 'noun', 'N\\n'), ('\\xe5\\xae\\x88', 'noun', 'N\\n'), ('\\xe8\\xaa\\x9a', 'verb', 'N\\n'), ('\\xe9\\x81\\x93', 'verb', 'N\\n'), ('\\xe5\\xbb\\xb7', 'noun', 'N\\n'), ('\\xe4\\xba\\x8b', 'verb', 'N\\n'), ('\\xe7\\x9c\\x9f', 'verb', 'N\\n'), ('\\xe5\\xad\\x90', 'noun', 'N\\n'), ('\\xe9\\x87\\x8f', 'noun', 'N\\n'), ('\\xe5\\xae\\x88', 'noun', 'N\\n'), ('\\xe4\\xbb\\xa3', 'verb', 'N\\n'), ('\\xe6\\x98\\x8e', 'verb', 'N\\n'), ('\\xe5\\xae\\x88', 'noun', 'N\\n'), ('\\xe5\\xae\\x9a', 'verb', 'N\\n'), ('\\xe5\\xae\\x88', 'noun', 'N\\n'), ('\\xe5\\xad\\x90', 'noun', 'N\\n'), ('\\xe5\\xae\\x88', 'noun', 'N\\n'), ('\\xe5\\xae\\x88', 'noun', 'N\\n'), ('\\xe5\\xad\\x90', 'noun', 'N\\n'), ('\\xe7\\x95\\xab', 'noun', 'N\\n'), ('\\xe8\\x88\\x88', 'noun', 'N\\n'), ('\\xe5\\xae\\x88', 'noun', 'N\\n'), ('\\xe5\\xad\\x90', 'noun', 'N\\n'), ('\\xe6\\x88\\xa5', 'noun', 'N\\n'), ('\\xe8\\xbe\\xa6', 'noun', 'N\\n'), ('\\xe6\\x98\\x8e', 'verb', 'N\\n'), ('\\xe9\\x9a\\xb1', 'verb', 'N\\n'), ('\\xe5\\x85\\xa5', 'verb', 'N\\n'), ('\\xe5\\xad\\x90', 'noun', 'N\\n'), ('\\xe5\\xad\\x90', 'noun', 'N\\n'), ('\\xe5\\x92\\x90', 'verb', 'N\\n'), ('\\xe6\\x9d\\xbf', 'noun', 'N\\n'), ('\\xe9\\x9a\\xb8', 'noun', 'N\\n'), ('\\xe5\\xad\\x90', 'noun', 'N\\n'), ('\\xe9\\x9a\\xb8', 'noun', 'N\\n'), ('\\xe5\\xbd\\xb9', 'noun', 'N\\n'), ('\\xe5\\x9f\\x8e', 'noun', 'N\\n'), ('\\xe9\\x81\\x93', 'verb', 'N\\n'), ('\\xe7\\x88\\xba', 'noun', 'N\\n'), ('\\xe5\\xae\\xb3', 'noun', 'N\\n'), ('\\xe5\\xa4\\xa2', 'noun', 'N\\n'), ('\\xe8\\x81\\x9e', 'verb', 'N\\n'), ('\\xe8\\xa5\\xbf', 'noun', 'N\\n'), ('\\xe5\\x93\\xa1', 'noun', 'N\\n'), ('\\xe5\\x80\\xbc', 'verb', 'N\\n'), ('\\xe8\\xa5\\xbf', 'noun', 'N\\n'), ('\\xe7\\x8e\\x8b', 'noun', 'N\\n'), ('\\xe4\\xba\\x82', 'verb', 'N\\n'), ('\\xe5\\x9a\\xb4', 'verb', 'N\\n'), ('\\xe5\\xbb\\xb7', 'noun', 'N\\n'), ('\\xe9\\x99\\x9e', 'verb', 'N\\n'), ('\\xe8\\xb4\\x9b', 'noun', 'N\\n'), ('\\xe9\\x81\\x93', 'noun', 'N\\n'), ('\\xe8\\xb6\\xb2', 'verb', 'N\\n'), ('\\xe9\\x9c\\x80', 'noun', 'N\\n'), ('\\xe5\\xae\\x88', 'noun', 'N\\n'), ('\\xe6\\xaa\\x84', 'noun', 'N\\n'), ('\\xe6\\x9b\\xb8', 'noun', 'N\\n'), ('\\xe9\\x80\\x9f', 'adverb', 'N\\n'), ('\\xe8\\xb4\\x9b', 'noun', 'N\\n'), ('\\xe7\\x9c\\x8b', 'verb', 'N\\n'), ('\\xe7\\xab\\x99', 'noun', 'N\\n'), ('\\xe9\\xa6\\xac', 'noun', 'N\\n'), ('\\xe8\\xa1\\x8c', 'set_phrase', 'N\\n'), ('\\xe6\\x96\\xb9', 'noun', 'N\\n'), ('\\xe9\\xa4\\xa8', 'noun', 'N\\n'), ('\\xe9\\xa4\\xa8', 'noun', 'N\\n'), ('\\xe5\\xad\\x90', 'noun', 'N\\n'), ('\\xe9\\xa0\\xad', 'verb', 'N\\n'), ('\\xe5\\xbb\\xb3', 'noun', 'N\\n'), ('\\xe9\\xa8\\xae', 'set_phrase', 'N\\n'), ('\\xe9\\x96\\x8b', 'set_phrase', 'N\\n'), ('\\xe9\\x81\\x93', 'set_phrase', 'N\\n'), ('\\xe8\\x87\\xba', 'noun', 'N\\n'), ('\\xe8\\xa6\\x8b', 'verb', 'N\\n'), ('\\xe5\\x93\\xa1', 'noun', 'N\\n'), ('\\xe5\\xbd\\xb9', 'noun', 'N\\n'), ('\\xe8\\xa6\\x8b', 'verb', 'N\\n'), ('\\xe9\\xa2\\xa8', 'noun', 'N\\n'), ('\\xe9\\x9d\\xa2', 'noun', 'N\\n'), ('\\xe5\\xba\\x9c', 'set_phrase', 'N\\n'), ('\\xe8\\x98\\xb7', 'set_phrase', 'N\\n'), ('\\xe9\\xbe\\x8d', 'set_phrase', 'N\\n'), ('\\xe8\\x87\\xba', 'noun', 'N\\n'), ('\\xe8\\xa3\\x8f', 'noun', 'N\\n'), ('\\xe5\\x8b\\x9d', 'set_phrase', 'N\\n'), ('\\xe9\\xa7\\xad', 'set_phrase', 'N\\n'), ('\\xe7\\x95\\xb0', 'set_phrase', 'N\\n'), ('\\xe8\\x81\\x96', 'set_phrase', 'N\\n'), ('\\xe5\\xb8\\x9d', 'set_phrase', 'N\\n'), ('\\xe5\\x90\\x9b', 'set_phrase', 'N\\n'), ('\\xe6\\x96\\xb7', 'verb', 'N\\n'), ('\\xe5\\xa0\\x82', 'noun', 'N\\n'), ('\\xe6\\x98\\x8c', 'noun', 'N\\n'), ('\\xe5\\xba\\x9c', 'noun', 'N\\n'), ('\\xe4\\xba\\x8b', 'noun', 'N\\n'), ('\\xe7\\x8e\\x8b', 'noun', 'N\\n'), ('\\xe5\\x85\\xb5', 'verb', 'N\\n'), ('\\xe8\\xb4\\x9b', 'noun', 'N\\n'), ('\\xe8\\xbb\\x8d', 'noun', 'N\\n'), ('\\xe9\\x96\\x80', 'noun', 'N\\n'), ('\\xe9\\xa0\\xad', 'set_phrase', 'N\\n'), ('\\xe9\\xbc\\xa0', 'set_phrase', 'N\\n'), ('\\xe7\\xab\\x84', 'set_phrase', 'N\\n'), ('\\xe8\\x87\\xba', 'noun', 'N\\n'), ('\\xe7\\x95\\xb6', 'verb', 'N\\n'), ('\\xe7\\x8e\\x8b', 'noun', 'N\\n'), ('\\xe8\\x89\\x9f', 'set_phrase', 'N\\n'), ('\\xe6\\x88\\xb0', 'set_phrase', 'N\\n'), ('\\xe7\\x9b\\x94', 'set_phrase', 'N\\n'), ('\\xe4\\xba\\xae', 'set_phrase', 'N\\n'), ('\\xe7\\x94\\xb2', 'set_phrase', 'N\\n'), ('\\xe8\\xa6\\x8b', 'verb', 'N\\n'), ('\\xe8\\x89\\x99', 'noun', 'N\\n'), ('\\xe8\\x87\\xba', 'noun', 'N\\n'), ('\\xe5\\x89\\xaa', 'verb', 'N\\n'), ('\\xe8\\x87\\xba', 'noun', 'N\\n'), ('\\xe7\\x87\\xad', 'noun', 'N\\n'), ('\\xe5\\xbd\\xb1', 'noun', 'N\\n'), ('\\xe8\\xa6\\x8b', 'verb', 'N\\n'), ('\\xe7\\x8e\\x8b', 'noun', 'N\\n'), ('\\xe9\\xa0\\xad', 'verb', 'N\\n'), ('\\xe7\\x8e\\x8b', 'noun', 'N\\n'), ('\\xe8\\xa3\\xb3', 'noun', 'N\\n'), ('\\xe9\\x81\\x93', 'verb', 'N\\n'), ('\\xe5\\x90\\x8e', 'noun', 'N\\n'), ('\\xe6\\x97\\xa8', 'noun', 'N\\n'), ('\\xe5\\x81\\xb4', 'noun', 'N\\n'), ('\\xe8\\xa5\\xbf', 'noun', 'N\\n'), ('\\xe5\\x93\\xa1', 'noun', 'N\\n'), ('\\xe9\\xa0\\x86', 'verb', 'N\\n'), ('\\xe6\\x8e\\x88', 'verb', 'N\\n'), ('\\xe7\\x88\\xb5', 'noun', 'N\\n'), ('\\xe8\\x87\\xba', 'noun', 'N\\n'), ('\\xe9\\xa0\\xad', 'verb', 'N\\n'), ('\\xe9\\xa1\\x98', 'verb', 'N\\n'), ('\\xe9\\xa0\\x86', 'verb', 'N\\n'), ('\\xe7\\x8e\\x8b', 'noun', 'N\\n'), ('\\xe8\\x87\\xba', 'noun', 'N\\n'), ('\\xe7\\x97\\x9b', 'verb', 'N\\n'), ('\\xe9\\xa0\\xad', 'verb', 'N\\n'), ('\\xe7\\x88\\xba', 'noun', 'N\\n'), ('\\xe8\\xa5\\xbf', 'noun', 'N\\n'), ('\\xe5\\xaf\\x9f', 'noun', 'N\\n'), ('\\xe5\\x8f\\xb8', 'noun', 'N\\n'), ('\\xe7\\x8e\\x8b', 'noun', 'N\\n'), ('\\xe8\\xa6\\x8b', 'verb', 'N\\n'), ('\\xe5\\x8f\\xb3', 'noun', 'N\\n'), ('\\xe7\\x8e\\x8b', 'noun', 'N\\n'), ('\\xe7\\x89\\x92', 'noun', 'N\\n'), ('\\xe5\\xad\\x90', 'noun', 'N\\n'), ('\\xe8\\x81\\x96', 'set_phrase', 'N\\n'), ('\\xe5\\xb8\\x9d', 'set_phrase', 'N\\n'), ('\\xe5\\x90\\x9b', 'set_phrase', 'N\\n'), ('\\xe7\\x91\\x9f', 'set_phrase', 'N\\n'), ('\\xe7\\x90\\xb5', 'set_phrase', 'N\\n'), ('\\xe7\\x90\\xb6', 'set_phrase', 'N\\n'), ('\\xe7\\x8e\\x8b', 'noun', 'N\\n'), ('\\xe5\\xbb\\xba', 'noun', 'N\\n'), ('\\xe4\\xbc\\xaf', 'noun', 'N\\n'), ('\\xe5\\xae\\x88', 'noun', 'N\\n'), ('\\xe4\\xbb\\x81', 'noun', 'N\\n'), ('\\xe6\\x95\\x97', 'verb', 'N\\n'), ('\\xe6\\x89\\x8b', 'set_phrase', 'N\\n'), ('\\xe5\\xb0\\xb1', 'set_phrase', 'N\\n'), ('\\xe6\\x93\\x92', 'set_phrase', 'N\\n'), ('\\xe5\\xae\\x98', 'noun', 'N\\n'), ('\\xe8\\x87\\xba', 'noun', 'N\\n'), ('\\xe9\\x96\\x80', 'noun', 'N\\n'), ('\\xe6\\x8b\\xbe', 'verb', 'N\\n'), ('\\xe8\\xa5\\xbf', 'noun', 'N\\n'), ('\\xe7\\xae\\xb1', 'noun', 'N\\n'), ('\\xe9\\x9d\\xa2', 'noun', 'N\\n'), ('\\xe6\\x9b\\xb8', 'noun', 'N\\n'), ('\\xe5\\xad\\x90', 'noun', 'N\\n'), ('\\xe8\\xa1\\xa3', 'noun', 'N\\n'), ('\\xe5\\xb8\\xbd', 'noun', 'N\\n'), ('\\xe4\\xb8\\x8d', 'set_phrase', 'N\\n'), ('\\xe6\\x93\\x87', 'set_phrase', 'N\\n'), ('\\xe8\\xb7\\xaf', 'set_phrase', 'N\\n'), ('\\xe8\\xb7\\xaf', 'noun', 'N\\n'), ('\\xe5\\xa4\\xa9', 'set_phrase', 'N\\n'), ('\\xe9\\xbb\\x91', 'set_phrase', 'N\\n'), ('\\xe5\\x9c\\xb0', 'set_phrase', 'N\\n'), ('\\xe6\\xb1\\x9f', 'noun', 'N\\n'), ('\\xe6\\x96\\xb9', 'noun', 'N\\n'), ('\\xe5\\xbf\\x83', 'noun', 'N\\n'), ('\\xe6\\x83\\xa0', 'noun', 'N\\n'), ('\\xe5\\xbf\\x83', 'noun', 'N\\n'), ('\\xe5\\xba\\x97', 'noun', 'N\\n'), ('\\xe6\\xbb\\xbf', 'verb', 'N\\n'), ('\\xe6\\x83\\xa0', 'noun', 'N\\n'), ('\\xe5\\xba\\x97', 'verb', 'N\\n'), ('\\xe6\\x83\\xa0', 'noun', 'N\\n'), ('\\xe6\\x83\\xa0', 'noun', 'N\\n'), ('\\xe9\\x81\\x93', 'verb', 'N\\n'), ('\\xe6\\x95\\x99', 'verb', 'N\\n'), ('\\xe8\\x88\\x88', 'noun', 'N\\n'), ('\\xe6\\x83\\xa0', 'noun', 'N\\n'), ('\\xe6\\x83\\xa0', 'noun', 'N\\n'), ('\\xe6\\x98\\x8c', 'noun', 'N\\n'), ('\\xe5\\xae\\x88', 'noun', 'N\\n'), ('\\xe9\\x81\\x93', 'verb', 'N\\n'), ('\\xe5\\xae\\xa2', 'noun', 'N\\n'), ('\\xe5\\x95\\x8f', 'verb', 'N\\n'), ('\\xe6\\x83\\xa0', 'noun', 'N\\n'), ('\\xe5\\xad\\xab', 'noun', 'N\\n'), ('\\xe6\\x95\\xac', 'verb', 'N\\n'), ('\\xe5\\x95\\x8f', 'verb', 'N\\n'), ('\\xe9\\x84\\x89', 'noun', 'N\\n'), ('\\xe6\\x83\\xa0', 'noun', 'N\\n'), ('\\xe8\\xa9\\xb1', 'verb', 'N\\n'), ('\\xe8\\x88\\x9f', 'noun', 'N\\n'), ('\\xe5\\xad\\xab', 'noun', 'N\\n'), ('\\xe6\\x94\\x9c', 'verb', 'N\\n'), ('\\xe6\\x83\\xa0', 'noun', 'N\\n'), ('\\xe6\\x98\\x8c', 'noun', 'N\\n'), ('\\xe6\\x9c\\x83', 'verb', 'N\\n'), ('\\xe7\\x88\\xba', 'noun', 'N\\n'), ('\\xe8\\xab\\xb1', 'noun', 'N\\n'), ('\\xe7\\x8e\\x89', 'noun', 'N\\n'), ('\\xe5\\x8f\\x94', 'noun', 'N\\n'), ('\\xe5\\xad\\xab', 'noun', 'N\\n'), ('\\xe5\\x90\\x9b', 'noun', 'N\\n'), ('\\xe6\\x83\\xa0', 'noun', 'N\\n'), ('\\xe9\\x81\\x93', 'verb', 'N\\n'), ('\\xe7\\xbf\\x81', 'noun', 'N\\n'), ('\\xe8\\xb2\\x8c', 'noun', 'N\\n'), ('\\xe4\\xbc\\xbc', 'verb', 'N\\n'), ('\\xe5\\x91\\xbc', 'noun', 'N\\n'), ('\\xe5\\xad\\xab', 'noun', 'N\\n'), ('\\xe6\\x98\\x8c', 'noun', 'N\\n'), ('\\xe7\\xb5\\x84', 'noun', 'N\\n'), ('\\xe5\\x90\\x9b', 'noun', 'N\\n'), ('\\xe8\\x83\\x8c', 'verb', 'N\\n'), ('\\xe6\\x83\\xa0', 'noun', 'N\\n'), ('\\xe9\\x81\\x93', 'verb', 'N\\n'), ('\\xe6\\x98\\x8c', 'noun', 'N\\n'), ('\\xe5\\x85\\xac', 'noun', 'N\\n'), ('\\xe8\\x82\\x89', 'noun', 'N\\n'), ('\\xe5\\x85\\x84', 'noun', 'N\\n'), ('\\xe5\\xba\\x9a', 'noun', 'N\\n'), ('\\xe5\\xad\\xab', 'noun', 'N\\n'), ('\\xe5\\xba\\xa6', 'verb', 'N\\n'), ('\\xe6\\x95\\x99', 'verb', 'N\\n'), ('\\xe9\\x84\\x89', 'noun', 'N\\n'), ('\\xe6\\x83\\xa0', 'noun', 'N\\n'), ('\\xe5\\xbe\\x9e', 'noun', 'N\\n'), ('\\xe5\\xad\\xab', 'noun', 'N\\n'), ('\\xe6\\x83\\xa0', 'noun', 'N\\n'), ('\\xe8\\x80\\xb3', 'set_phrase', 'N\\n'), ('\\xe4\\xbd\\x8e', 'set_phrase', 'N\\n'), ('\\xe8\\xa8\\x80', 'set_phrase', 'N\\n'), ('\\xe6\\x98\\x8c', 'noun', 'N\\n'), ('\\xe5\\xba\\x9c', 'noun', 'N\\n'), ('\\xe6\\x83\\xa0', 'noun', 'N\\n'), ('\\xe5\\xad\\xab', 'noun', 'N\\n'), ('\\xe9\\x81\\x93', 'verb', 'N\\n'), ('\\xe9\\x99\\x9e', 'verb', 'N\\n'), ('\\xe8\\xb4\\x9b', 'noun', 'N\\n'), ('\\xe9\\x81\\x93', 'noun', 'N\\n'), ('\\xe8\\xa3\\x9d', 'verb', 'N\\n'), ('\\xe6\\x83\\xa0', 'noun', 'N\\n'), ('\\xe7\\x8e\\x8b', 'noun', 'N\\n'), ('\\xe5\\x8f\\x9b', 'verb', 'N\\n'), ('\\xe5\\x8d\\xb0', 'verb', 'N\\n'), ('\\xe5\\x9f\\x8e', 'noun', 'N\\n'), ('\\xe8\\xb2\\xbb', 'noun', 'N\\n'), ('\\xe5\\xad\\xab', 'noun', 'N\\n'), ('\\xe6\\x83\\xa0', 'noun', 'N\\n'), ('\\xe9\\x80\\x94', 'set_phrase', 'N\\n'), ('\\xe6\\xb5\\x81', 'set_phrase', 'N\\n'), ('\\xe8\\x90\\xbd', 'set_phrase', 'N\\n'), ('\\xe9\\xa0\\x86', 'verb', 'N\\n'), ('\\xe7\\x8e\\x8b', 'noun', 'N\\n'), ('\\xe5\\xad\\xab', 'noun', 'N\\n'), ('\\xe8\\x8c\\xab', 'set_phrase', 'N\\n'), ('\\xe8\\xb2\\xbb', 'noun', 'N\\n'), ('\\xe5\\xb0\\x91', 'verb', 'N\\n'), ('\\xe7\\x94\\x9f', 'noun', 'N\\n'), ('\\xe5\\xb7\\x9e', 'noun', 'N\\n'), ('\\xe8\\xa6\\xaa', 'noun', 'N\\n'), ('\\xe5\\x8f\\x96', 'verb', 'N\\n'), ('\\xe5\\xad\\x90', 'noun', 'N\\n'), ('\\xe8\\xb2\\xbb', 'noun', 'N\\n'), ('\\xe9\\x9d\\x9c', 'verb', 'N\\n'), ('\\xe5\\xad\\x90', 'noun', 'N\\n'), ('\\xe6\\x83\\xa0', 'noun', 'N\\n'), ('\\xe6\\x83\\xa0', 'noun', 'N\\n'), ('\\xe8\\xac\\x9d', 'verb', 'N\\n'), ('\\xe9\\x81\\x93', 'verb', 'N\\n'), ('\\xe8\\xb7\\xaf', 'verb', 'N\\n'), ('\\xe6\\xbf\\x9f', 'verb', 'N\\n'), ('\\xe4\\xbb\\xa5', 'adverb', 'N\\n'), ('\\xe5\\xa0\\xb1', 'verb', 'N\\n'), ('\\xe5\\xad\\xab', 'noun', 'N\\n'), ('\\xe5\\xbf\\x99', 'adverb', 'N\\n'), ('\\xe6\\x83\\xa0', 'noun', 'N\\n'), ('\\xe6\\x9d\\x8e', 'noun', 'N\\n'), ('\\xe8\\xa4\\xa5', 'noun', 'N\\n'), ('\\xe7\\xae\\xb1', 'noun', 'N\\n'), ('\\xe6\\x9b\\xb8', 'noun', 'N\\n'), ('\\xe8\\xb8\\xaa', 'set_phrase', 'N\\n'), ('\\xe5\\x9c\\xa8', 'set_phrase', 'N\\n'), ('\\xe8\\xaa\\x8d', 'verb', 'N\\n'), ('\\xe9\\x9d\\x9e', 'noun', 'N\\n'), ('\\xe5\\x85\\x84', 'noun', 'N\\n'), ('\\xe7\\xab\\x84', 'verb', 'N\\n'), ('\\xe5\\xad\\xab', 'noun', 'N\\n'), ('\\xe8\\xab\\xbe', 'verb', 'N\\n'), ('\\xe4\\xbb\\xa3', 'verb', 'N\\n'), ('\\xe6\\xb7\\x9a', 'verb', 'N\\n'), ('\\xe6\\x89\\x8b', 'verb', 'N\\n'), ('\\xe6\\x83\\xa0', 'noun', 'N\\n'), ('\\xe5\\x95\\x8f', 'verb', 'N\\n'), ('\\xe7\\xa5\\x96', 'noun', 'N\\n'), ('\\xe4\\xb8\\x96', 'noun', 'N\\n'), ('\\xe9\\xa6\\xac', 'set_phrase', 'N\\n'), ('\\xe7\\x9b\\xb8', 'set_phrase', 'N\\n'), ('\\xe5\\xa0\\xb1', 'set_phrase', 'N\\n'), ('\\xe6\\x83\\xa0', 'noun', 'N\\n'), ('\\xe6\\xb9\\x96', 'noun', 'N\\n'), ('\\xe9\\xab\\xae', 'set_phrase', 'N\\n'), ('\\xe6\\x8a\\xab', 'set_phrase', 'N\\n'), ('\\xe7\\xb7\\x87', 'set_phrase', 'N\\n'), ('\\xe5\\xad\\xab', 'noun', 'N\\n'), ('\\xe8\\x88\\x88', 'noun', 'N\\n'), ('\\xe7\\x88\\xb6', 'noun', 'N\\n'), ('\\xe8\\xa6\\x8b', 'verb', 'N\\n'), ('\\xe5\\xae\\x88', 'noun', 'N\\n'), ('\\xe5\\xae\\x88', 'noun', 'N\\n'), ('\\xe9\\x81\\x93', 'verb', 'N\\n'), ('\\xe9\\xa0\\x86', 'verb', 'N\\n'), ('\\xe7\\x8e\\x8b', 'noun', 'N\\n'), ('\\xe5\\xad\\xab', 'noun', 'N\\n'), ('\\xe6\\x98\\x8e', 'verb', 'N\\n'), ('\\xe5\\x8d\\xb0', 'verb', 'N\\n'), ('\\xe7\\xba\\x8f', 'noun', 'N\\n'), ('\\xe5\\xae\\x88', 'noun', 'N\\n'), ('\\xe7\\xbd\\xaa', 'verb', 'N\\n'), ('\\xe5\\xbb\\xb7', 'noun', 'N\\n'), ('\\xe5\\xad\\x90', 'noun', 'N\\n'), ('\\xe8\\xb2\\xbb', 'noun', 'N\\n'), ('\\xe5\\xad\\xab', 'noun', 'N\\n'), ('\\xe5\\xae\\x88', 'noun', 'N\\n'), ('\\xe5\\xad\\xab', 'noun', 'N\\n'), ('\\xe5\\xad\\x90', 'noun', 'N\\n'), ('\\xe5\\xae\\x88', 'noun', 'N\\n'), ('\\xe5\\x8b\\x9d', 'set_phrase', 'N\\n'), ('\\xe6\\xad\\xa1', 'set_phrase', 'N\\n'), ('\\xe5\\x96\\x9c', 'set_phrase', 'N\\n'), ('\\xe5\\xad\\x90', 'noun', 'N\\n'), ('\\xe5\\xad\\x90', 'noun', 'N\\n'), ('\\xe4\\xbb\\xa3', 'verb', 'N\\n'), ('\\xe8\\xa8\\xb4', 'verb', 'N\\n'), ('\\xe5\\xad\\xab', 'noun', 'N\\n'), ('\\xe7\\xa5\\x96', 'noun', 'N\\n'), ('\\xe6\\x88\\xbf', 'verb', 'N\\n'), ('\\xe8\\xa6\\xaa', 'noun', 'N\\n'), ('\\xe6\\xb0\\x8f', 'noun', 'N\\n'), ('\\xe5\\x8b\\x9e', 'verb', 'N\\n'), ('\\xe6\\x88\\xbf', 'verb', 'N\\n'), ('\\xe6\\x81\\xaf', 'verb', 'N\\n'), ('\\xe7\\xa5\\x96', 'noun', 'N\\n'), ('\\xe9\\x81\\x93', 'verb', 'N\\n'), ('\\xe5\\xae\\x88', 'noun', 'N\\n'), ('\\xe7\\xae\\xb1', 'noun', 'N\\n'), ('\\xe7\\xa5\\x96', 'noun', 'N\\n'), ('\\xe5\\xae\\x88', 'noun', 'N\\n'), ('\\xe7\\xb7\\x8a', 'verb', 'N\\n'), ('\\xe9\\x9d\\x92', 'noun', 'N\\n'), ('\\xe9\\x82\\xb1', 'noun', 'N\\n'), ('\\xe8\\xa9\\xa9', 'noun', 'N\\n'), ('\\xe8\\xa9\\xb1', 'noun', 'N\\n'), ('\\xe9\\x82\\xb1', 'noun', 'N\\n'), ('\\xe7\\xad\\x86', 'noun', 'N\\n'), ('\\xe5\\xb7\\xa5', 'noun', 'N\\n'), ('\\xe5\\xae\\x88', 'noun', 'N\\n'), ('\\xe5\\x86\\x85', 'noun', 'N\\n'), ('\\xe8\\xa6\\x8b', 'verb', 'N\\n'), ('\\xe5\\xb9\\xb8', 'verb', 'N\\n'), ('\\xe8\\x97\\x8f', 'verb', 'N\\n'), ('\\xe8\\xa6\\x8b', 'verb', 'N\\n'), ('\\xe5\\xad\\xab', 'noun', 'N\\n'), ('\\xe8\\xa3\\x8f', 'noun', 'N\\n'), ('\\xe9\\x81\\x93', 'verb', 'N\\n'), ('\\xe5\\xaf\\xab', 'verb', 'N\\n'), ('\\xe5\\xad\\x97', 'noun', 'N\\n'), ('\\xe5\\x88\\xbb', 'verb', 'N\\n'), ('\\xe5\\x90\\x8d', 'noun', 'N\\n'), ('\\xe6\\x84\\x8f', 'noun', 'N\\n'), ('\\xe5\\xad\\xa3', 'noun', 'N\\n'), ('\\xe8\\xbf\\xaa', 'noun', 'N\\n'), ('\\xe5\\xad\\x97', 'noun', 'N\\n'), ('\\xe8\\x88\\x88', 'noun', 'N\\n'), ('\\xe5\\xa4\\xab', 'noun', 'N\\n'), ('\\xe8\\xbc\\xaf', 'verb', 'N\\n'), ('\\xe5\\x8d\\xb0', 'verb', 'N\\n'), ('\\xe6\\x88\\x9a', 'noun', 'N\\n'), ('\\xe5\\x8f\\x8b', 'noun', 'N\\n'), ('\\xe7\\x8e\\xa9', 'verb', 'N\\n'), ('\\xe8\\xa5\\xbf', 'noun', 'N\\n'), ('\\xe6\\x85\\x95', 'verb', 'N\\n'), ('\\xe5\\xae\\x88', 'noun', 'N\\n'), ('\\xe5\\xad\\xab', 'noun', 'N\\n'), ('\\xe5\\xa3\\xab', 'noun', 'N\\n'), ('\\xe5\\xae\\x88', 'noun', 'N\\n'), ('\\xe9\\x81\\x93', 'verb', 'N\\n'), ('\\xe8\\xa9\\x9e', 'noun', 'N\\n'), ('\\xe6\\x96\\xb9', 'noun', 'N\\n'), ('\\xe5\\xa3\\xab', 'noun', 'N\\n'), ('\\xe7\\xad\\x94', 'verb', 'N\\n'), ('\\xe9\\x81\\x93', 'verb', 'N\\n'), ('\\xe8\\x80\\x81', 'noun', 'N\\n'), ('\\xe7\\x88\\xba', 'noun', 'N\\n'), ('\\xe5\\xae\\x88', 'noun', 'N\\n'), ('\\xe5\\xad\\xab', 'noun', 'N\\n'), ('\\xe5\\x8f\\x94', 'noun', 'N\\n'), ('\\xe8\\xab\\x8b', 'verb', 'N\\n'), ('\\xe5\\xad\\xab', 'noun', 'N\\n'), ('\\xe4\\xb8\\xad', 'noun', 'N\\n'), ('\\xe5\\xa0\\x82', 'noun', 'N\\n'), ('\\xe5\\xad\\x90', 'noun', 'N\\n'), ('\\xe5\\xa0\\x82', 'noun', 'N\\n'), ('\\xe9\\x80\\x9d', 'verb', 'N\\n'), ('\\xe8\\x91\\xac', 'noun', 'N\\n'), ('\\xe6\\x81\\xaa', 'noun', 'N\\n'), ('\\xe5\\xb7\\x9e', 'noun', 'N\\n'), ('\\xe5\\xad\\x90', 'noun', 'N\\n'), ('\\xe6\\x94\\xbf', 'noun', 'N\\n'), ('\\xe5\\x8f\\xb8', 'noun', 'N\\n'), ('\\xe5\\xa0\\x82', 'noun', 'N\\n'), ('\\xe5\\xad\\x90', 'noun', 'N\\n'), ('\\xe7\\x90\\xab', 'noun', 'N\\n'), ('\\xe4\\xba\\xad', 'noun', 'N\\n'), ('\\xe5\\xbb\\x89', 'noun', 'N\\n'), ('\\xe5\\xad\\x90', 'noun', 'N\\n'), ('\\xe7\\x93\\x9a', 'noun', 'N\\n'), ('\\xe4\\xba\\xad', 'noun', 'N\\n'), ('\\xe6\\x9b\\xb8', 'verb', 'N\\n'), ('\\xe5\\xae\\x88', 'noun', 'N\\n'), ('\\xe5\\x86\\x85', 'noun', 'N\\n'), ('\\xe5\\xa7\\xaa', 'noun', 'N\\n'), ('\\xe5\\xad\\xab', 'noun', 'N\\n'), ('\\xe5\\xae\\x88', 'noun', 'N\\n'), ('\\xe5\\x96\\x9c', 'verb', 'N\\n'), ('\\xe5\\xa4\\x96', 'noun', 'N\\n'), ('\\xe4\\xb8\\x88', 'noun', 'N\\n'), ('\\xe5\\xae\\x88', 'noun', 'N\\n'), ('\\xe5\\xad\\xab', 'noun', 'N\\n'), ('\\xe8\\xa6\\x8b', 'verb', 'N\\n'), ('\\xe5\\x8f\\x94', 'noun', 'N\\n'), ('\\xe5\\x9d\\x90', 'verb', 'N\\n'), ('\\xe8\\x8c\\xb6', 'verb', 'N\\n'), ('\\xe5\\xad\\x90', 'noun', 'N\\n'), ('\\xe4\\xb8\\x88', 'noun', 'N\\n'), ('\\xe6\\x8c\\x87', 'verb', 'N\\n'), ('\\xe5\\xa7\\xaa', 'noun', 'N\\n'), ('\\xe7\\x9f\\xa5', 'verb', 'N\\n'), ('\\xe4\\xb8\\x88', 'noun', 'N\\n'), ('\\xe5\\x86\\xa0', 'set_phrase', 'N\\n'), ('\\xe6\\xad\\xb8', 'set_phrase', 'N\\n'), ('\\xe6\\x9c\\x8d', 'set_phrase', 'N\\n'), ('\\xe9\\xab\\x98', 'set_phrase', 'N\\n'), ('\\xe8\\xa6\\x8b', 'set_phrase', 'N\\n'), ('\\xe4\\xb8\\x88', 'noun', 'N\\n'), ('\\xe9\\xac\\xa2', 'set_phrase', 'N\\n'), ('\\xe7\\x9a\\x93', 'set_phrase', 'N\\n'), ('\\xe7\\x84\\xb6', 'set_phrase', 'N\\n'), ('\\xe5\\x8f\\xb8', 'noun', 'N\\n'), ('\\xe5\\xae\\x98', 'noun', 'N\\n'), ('\\xe5\\xae\\x88', 'noun', 'N\\n'), ('\\xe6\\x83\\x85', 'noun', 'N\\n'), ('\\xe6\\x98\\x8c', 'noun', 'N\\n'), ('\\xe7\\xbd\\xaa', 'verb', 'N\\n'), ('\\xe6\\xa5\\xad', 'noun', 'N\\n'), ('\\xe7\\xb3\\x9c', 'verb', 'N\\n'), ('\\xe5\\xbb\\xb7', 'noun', 'N\\n'), ('\\xe7\\xa5\\xbf', 'noun', 'N\\n'), ('\\xe5\\xa6\\x82', 'conjunction', 'N\\n'), ('\\xe5\\x85\\x92', 'noun', 'N\\n'), ('\\xe5\\x8c\\x96', 'verb', 'N\\n'), ('\\xe6\\x87\\xb7', 'set_phrase', 'N\\n'), ('\\xe5\\x86\\xb0', 'set_phrase', 'N\\n'), ('\\xe5\\x86\\xb7', 'set_phrase', 'N\\n'), ('\\xe5\\xae\\x98', 'verb', 'N\\n'), ('\\xe6\\x87\\x89', 'noun', 'N\\n'), ('\\xe5\\xad\\x90', 'noun', 'N\\n'), ('\\xe5\\x85\\x84', 'noun', 'N\\n'), ('\\xe6\\x89\\x8d', 'noun', 'N\\n'), ('\\xe8\\x90\\xbd', 'set_phrase', 'N\\n'), ('\\xe8\\x8b\\xb1', 'set_phrase', 'N\\n'), ('\\xe5\\xa4\\x9a', 'set_phrase', 'N\\n'), ('\\xe5\\xa7\\xaa', 'noun', 'N\\n'), ('\\xe5\\xa5\\x89', 'verb', 'N\\n'), ('\\xe4\\xb8\\x88', 'noun', 'N\\n'), ('\\xe5\\xad\\x90', 'noun', 'N\\n'), ('\\xe5\\xa7\\xaa', 'noun', 'N\\n'), ('\\xe5\\x85\\x84', 'noun', 'N\\n'), ('\\xe9\\x9f\\xb3', 'noun', 'N\\n'), ('\\xe9\\x87\\x8f', 'noun', 'N\\n'), ('\\xe8\\xa7\\x92', 'set_phrase', 'N\\n'), ('\\xe4\\xba\\xa4', 'set_phrase', 'N\\n'), ('\\xe8\\xb7\\xaf', 'set_phrase', 'N\\n'), ('\\xe5\\x88\\x86', 'set_phrase', 'N\\n'), ('\\xe9\\x9b\\xa2', 'set_phrase', 'N\\n'), ('\\xe7\\x97\\x9b', 'set_phrase', 'N\\n'), ('\\xe7\\x96\\xbe', 'noun', 'N\\n'), ('\\xe6\\xb6\\x95', 'set_phrase', 'N\\n'), ('\\xe5\\xae\\x88', 'noun', 'N\\n'), ('\\xe5\\x85\\x84', 'noun', 'N\\n'), ('\\xe8\\x88\\x88', 'verb', 'N\\n'), ('\\xe6\\x94\\xbf', 'noun', 'N\\n'), ('\\xe5\\x8f\\xb8', 'noun', 'N\\n'), ('\\xe6\\xb7\\xa1', 'verb', 'N\\n'), ('\\xe9\\x96\\x80', 'noun', 'N\\n'), ('\\xe6\\xb2\\x88', 'verb', 'N\\n'), ('\\xe7\\x99\\xbd', 'verb', 'N\\n'), ('\\xe5\\xa7\\xaa', 'noun', 'N\\n'), ('\\xe5\\xb8\\xab', 'noun', 'N\\n'), ('\\xe8\\xa6\\xba', 'verb', 'N\\n'), ('\\xe8\\x81\\x8a', 'verb', 'N\\n'), ('\\xe8\\xad\\xb0', 'verb', 'N\\n'), ('\\xe5\\xa6\\x82', 'conjunction', 'N\\n'), ('\\xe6\\x9c\\x8d', 'noun', 'N\\n'), ('\\xe8\\xa6\\x8b', 'verb', 'N\\n'), ('\\xe5\\xab\\x82', 'noun', 'N\\n'), ('\\xe5\\xad\\xab', 'noun', 'N\\n'), ('\\xe5\\xa5\\x89', 'verb', 'N\\n'), ('\\xe6\\x88\\xbf', 'noun', 'N\\n'), ('\\xe5\\x9c\\x83', 'noun', 'N\\n'), ('\\xe7\\x84\\xb6', 'set_phrase', 'N\\n'), ('\\xe5\\xae\\x88', 'noun', 'N\\n'), ('\\xe5\\xb7\\xbe', 'noun', 'N\\n'), ('\\xe6\\x9c\\x8d', 'noun', 'N\\n'), ('\\xe5\\x8f\\xb0', 'noun', 'N\\n'), ('\\xe6\\x9d\\x96', 'noun', 'N\\n'), ('\\xe5\\x9d\\x90', 'verb', 'N\\n'), ('\\xe8\\x8c\\x97', 'set_phrase', 'N\\n'), ('\\xe6\\xb7\\xb8', 'set_phrase', 'N\\n'), ('\\xe8\\xab\\x87', 'set_phrase', 'N\\n'), ('\\xe8\\xa5\\xbf', 'noun', 'N\\n'), ('\\xe7\\x8e\\x8b', 'noun', 'N\\n'), ('\\xe5\\x8f\\x9b', 'verb', 'N\\n'), ('\\xe5\\xbb\\xba', 'noun', 'N\\n'), ('\\xe4\\xbc\\xaf', 'noun', 'N\\n'), ('\\xe6\\x98\\x8e', 'set_phrase', 'N\\n'), ('\\xe7\\x8d\\xa8', 'set_phrase', 'N\\n'), ('\\xe9\\x81\\x8b', 'set_phrase', 'N\\n'), ('\\xe5\\x8a\\x9f', 'noun', 'N\\n'), ('\\xe9\\x9b\\xa3', 'noun', 'N\\n'), ('\\xe5\\xad\\x90', 'noun', 'N\\n'), ('\\xe5\\xbb\\xba', 'noun', 'N\\n'), ('\\xe4\\xbc\\xaf', 'noun', 'N\\n'), ('\\xe5\\x8a\\x9f', 'set_phrase', 'N\\n'), ('\\xe5\\xad\\x90', 'noun', 'N\\n'), ('\\xe5\\xa7\\xaa', 'noun', 'N\\n'), ('\\xe7\\x8e\\x8b', 'noun', 'N\\n'), ('\\xe5\\x8b\\x95', 'noun', 'N\\n'), ('\\xe6\\xb0\\xa3', 'noun', 'N\\n'), ('\\xe8\\x81\\x96', 'verb', 'N\\n'), ('\\xe7\\xa5\\x9e', 'verb', 'N\\n'), ('\\xe7\\x8e\\x8b', 'noun', 'N\\n'), ('\\xe6\\xb0\\xa3', 'noun', 'N\\n'), ('\\xe5\\xae\\x88', 'noun', 'N\\n'), ('\\xe4\\xba\\x8b', 'noun', 'N\\n'), ('\\xe5\\xad\\x90', 'noun', 'N\\n'), ('\\xe8\\xa9\\xb1', 'verb', 'N\\n'), ('\\xe6\\x85\\x8e', 'verb', 'N\\n'), ('\\xe5\\xad\\x90', 'noun', 'N\\n'), ('\\xe5\\xad\\x90', 'noun', 'N\\n'), ('\\xe5\\x90\\x8d', 'set_phrase', 'N\\n'), ('\\xe8\\xb9\\xad', 'set_phrase', 'N\\n'), ('\\xe8\\xb9\\xac', 'set_phrase', 'N\\n'), ('\\xe7\\x94\\xb2', 'noun', 'N\\n'), ('\\xe6\\x9e\\x97', 'noun', 'N\\n'), ('\\xe9\\xa8\\xb7', 'set_phrase', 'N\\n'), ('\\xe6\\xa8\\x82', 'noun', 'N\\n'), ('\\xe6\\x9c\\x9d', 'noun', 'N\\n'), ('\\xe9\\x85\\xa3', 'set_phrase', 'N\\n'), ('\\xe8\\x80\\xb3', 'set_phrase', 'N\\n'), ('\\xe7\\x86\\xb1', 'set_phrase', 'N\\n'), ('\\xe8\\xab\\x96', 'noun', 'N\\n'), ('\\xe9\\x80\\x9a', 'noun', 'N\\n'), ('\\xe6\\x94\\xbf', 'noun', 'N\\n'), ('\\xe6\\xb1\\x9f', 'noun', 'N\\n'), ('\\xe8\\xa9\\xb1', 'noun', 'N\\n'), ('\\xe9\\x81\\x93', 'verb', 'N\\n'), ('\\xe5\\xa7\\xaa', 'noun', 'N\\n'), ('\\xe6\\xa5\\xad', 'noun', 'N\\n'), ('\\xe5\\xb0\\xb1', 'verb', 'N\\n'), ('\\xe5\\x96\\x9c', 'verb', 'N\\n'), ('\\xe4\\xba\\x8b', 'noun', 'N\\n'), ('\\xe5\\xae\\x88', 'noun', 'N\\n'), ('\\xe5\\xa7\\xaa', 'noun', 'N\\n'), ('\\xe5\\xad\\x90', 'noun', 'N\\n'), ('\\xe9\\xa4\\x8a', 'verb', 'N\\n'), ('\\xe6\\x9b\\xb8', 'verb', 'N\\n'), ('\\xe5\\x95\\x8f', 'noun', 'N\\n'), ('\\xe6\\xa8\\xa1', 'set_phrase', 'N\\n'), ('\\xe5\\x81\\x9a', 'set_phrase', 'N\\n'), ('\\xe7\\xbd\\xb5', 'verb', 'N\\n'), ('\\xe5\\xa4\\xab', 'noun', 'N\\n'), ('\\xe6\\x81\\xaf', 'verb', 'N\\n'), ('\\xe5\\x85\\x84', 'noun', 'N\\n'), ('\\xe5\\x8f\\xb2', 'noun', 'N\\n'), ('\\xe5\\x85\\x84', 'noun', 'N\\n'), ('\\xe8\\xa3\\x8f', 'noun', 'N\\n'), ('\\xe6\\x83\\x9c', 'verb', 'N\\n'), ('\\xe7\\x94\\x9f', 'noun', 'N\\n'), ('\\xe6\\xa5\\xad', 'noun', 'N\\n'), ('\\xe7\\xa9\\xb6', 'verb', 'N\\n'), ('\\xe5\\x92\\x8f', 'verb', 'N\\n'), ('\\xe6\\x83\\x85', 'noun', 'N\\n'), ('\\xe9\\x81\\x93', 'verb', 'N\\n'), ('\\xe5\\xa4\\xa9', 'set_phrase', 'N\\n'), ('\\xe7\\x9f\\xa5', 'set_phrase', 'N\\n'), ('\\xe5\\x91\\xbd', 'set_phrase', 'N\\n'), ('\\xe7\\x90\\x86', 'noun', 'N\\n'), ('\\xe6\\xad\\xa1', 'verb', 'N\\n'), ('\\xe5\\xad\\x90', 'noun', 'N\\n'), ('\\xe4\\xb8\\x88', 'noun', 'N\\n'), ('\\xe8\\xa6\\x8b', 'verb', 'N\\n'), ('\\xe8\\xaa\\x9e', 'noun', 'N\\n'), ('\\xe5\\x89\\x8a', 'verb', 'N\\n'), ('\\xe6\\xb0\\xa3', 'noun', 'N\\n'), ('\\xe5\\xa3\\xab', 'noun', 'N\\n'), ('\\xe5\\xa6\\x82', 'conjunction', 'N\\n'), ('\\xe9\\xa4\\x8a', 'verb', 'N\\n'), ('\\xe9\\x9a\\xb2', 'verb', 'N\\n'), ('\\xe5\\x84\\x92', 'noun', 'N\\n'), ('\\xe5\\xae\\x88', 'noun', 'N\\n'), ('\\xe5\\xad\\xab', 'noun', 'N\\n'), ('\\xe5\\x8f\\x94', 'noun', 'N\\n'), ('\\xe8\\xae\\x9a', 'set_phrase', 'N\\n'), ('\\xe4\\xbd\\x8f', 'verb', 'N\\n'), ('\\xe6\\xa1\\x93', 'verb', 'N\\n'), ('\\xe5\\xae\\x88', 'noun', 'N\\n'), ('\\xe9\\x85\\x92', 'verb', 'N\\n'), ('\\xe5\\xad\\xab', 'noun', 'N\\n'), ('\\xe4\\xba\\x8b', 'noun', 'N\\n'), ('\\xe6\\x88\\xb6', 'noun', 'N\\n'), ('\\xe5\\xae\\x98', 'noun', 'N\\n'), ('\\xe8\\xa1\\x8c', 'verb', 'N\\n'), ('\\xe8\\xb2\\xa1', 'verb', 'N\\n'), ('\\xe9\\x81\\xb2', 'verb', 'N\\n'), ('\\xe5\\xa7\\xaa', 'noun', 'N\\n'), ('\\xe5\\xb7\\x9e', 'noun', 'N\\n'), ('\\xe6\\x84\\x8f', 'verb', 'N\\n'), ('\\xe7\\xaa\\xae', 'noun', 'N\\n'), ('\\xe5\\xa6\\xa8', 'verb', 'N\\n'), ('\\xe8\\xab\\xbe', 'verb', 'N\\n'), ('\\xe5\\xae\\x88', 'noun', 'N\\n'), ('\\xe5\\xad\\xab', 'noun', 'N\\n'), ('\\xe4\\xba\\x8b', 'noun', 'N\\n'), ('\\xe5\\xa4\\xab', 'noun', 'N\\n'), ('\\xe8\\xa6\\xaa', 'noun', 'N\\n'), ('\\xe5\\xbe\\x85', 'verb', 'N\\n'), ('\\xe6\\x85\\xa2', 'noun', 'N\\n'), ('\\xe5\\xa7\\xaa', 'noun', 'N\\n'), ('\\xe5\\x85\\x88', 'noun', 'N\\n'), ('\\xe5\\xa4\\xaa', 'noun', 'N\\n'), ('\\xe4\\xbf\\x9d', 'noun', 'N\\n'), ('\\xe5\\x85\\xac', 'noun', 'N\\n'), ('\\xe5\\x85\\xac', 'noun', 'N\\n'), ('\\xe6\\x81\\xaa', 'noun', 'N\\n'), ('\\xe5\\xa2\\x93', 'noun', 'N\\n'), ('\\xe5\\xad\\x97', 'noun', 'N\\n'), ('\\xe7\\xa5\\x90', 'noun', 'N\\n'), ('\\xe8\\xac\\x81', 'verb', 'N\\n'), ('\\xe9\\x81\\x93', 'noun', 'N\\n'), ('\\xe5\\xad\\x90', 'noun', 'N\\n'), ('\\xe7\\x84\\xb6', 'set_phrase', 'N\\n'), ('\\xe4\\xb8\\x88', 'noun', 'N\\n'), ('\\xe5\\xae\\x88', 'noun', 'N\\n'), ('\\xe6\\x89\\x8b', 'verb', 'N\\n'), ('\\xe9\\x96\\x80', 'noun', 'N\\n'), ('\\xe5\\xad\\xab', 'noun', 'N\\n'), ('\\xe5\\x8f\\x94', 'noun', 'N\\n'), ('\\xe5\\xad\\x90', 'noun', 'N\\n'), ('\\xe7\\x84\\xb6', 'verb', 'N\\n'), ('\\xe6\\x9d\\x8e', 'noun', 'N\\n'), ('\\xe7\\xb4\\xa0', 'verb', 'N\\n'), ('\\xe8\\xa6\\x8b', 'verb', 'N\\n'), ('\\xe8\\x94\\xad', 'set_phrase', 'N\\n'), ('\\xe7\\xa8\\xa0', 'set_phrase', 'N\\n'), ('\\xe5\\xaf\\x86', 'set_phrase', 'N\\n'), ('\\xe9\\xb3\\xa5', 'set_phrase', 'N\\n'), ('\\xe9\\xa3\\x9b', 'set_phrase', 'N\\n'), ('\\xe9\\xb3\\xb4', 'set_phrase', 'N\\n'), ('\\xe6\\xb8\\xaf', 'noun', 'N\\n'), ('\\xe5\\x85\\x84', 'noun', 'N\\n'), ('\\xe8\\x8f\\xaf', 'set_phrase', 'N\\n'), ('\\xe5\\xa1\\xb5', 'set_phrase', 'N\\n'), ('\\xe5\\x9c\\x9f', 'set_phrase', 'N\\n'), ('\\xe9\\x9b\\x85', 'set_phrase', 'N\\n'), ('\\xe6\\x99\\xaf', 'set_phrase', 'N\\n'), ('\\xe8\\x87\\xb4', 'set_phrase', 'N\\n'), ('\\xe8\\xa8\\x88', 'verb', 'N\\n'), ('\\xe7\\x9c\\x8b', 'verb', 'N\\n'), ('\\xe8\\x89\\xb2', 'noun', 'N\\n'), ('\\xe8\\x94\\xad', 'noun', 'N\\n'), ('\\xe5\\xad\\x90', 'noun', 'N\\n'), ('\\xe4\\xba\\x9b', 'verb', 'N\\n'), ('\\xe9\\x85\\x92', 'verb', 'N\\n'), ('\\xe8\\xab\\xbe', 'verb', 'N\\n'), ('\\xe5\\x85\\x84', 'noun', 'N\\n'), ('\\xe8\\x88\\xb7', 'set_phrase', 'N\\n'), ('\\xe7\\x97\\x9b', 'set_phrase', 'N\\n'), ('\\xe9\\xa3\\xb2', 'set_phrase', 'N\\n'), ('\\xe8\\xaa\\xaa', 'verb', 'N\\n'), ('\\xe9\\xa3\\xaf', 'verb', 'N\\n'), ('\\xe5\\xbc\\x9f', 'noun', 'N\\n'), ('\\xe8\\xa7\\x92', 'noun', 'N\\n'), ('\\xe9\\xa0\\xad', 'noun', 'N\\n'), ('\\xe9\\xa0\\xad', 'verb', 'N\\n'), ('\\xe9\\x81\\x93', 'verb', 'N\\n'), ('\\xe8\\x80\\x81', 'noun', 'N\\n'), ('\\xe7\\x88\\xba', 'noun', 'N\\n'), ('\\xe6\\x95\\x99', 'noun', 'N\\n'), ('\\xe5\\xad\\x90', 'noun', 'N\\n'), ('\\xe5\\xbd\\xa5', 'set_phrase', 'N\\n'), ('\\xe5\\x90\\x8d', 'set_phrase', 'N\\n'), ('\\xe5\\x84\\x92', 'set_phrase', 'N\\n'), ('\\xe8\\xa1\\xa3', 'set_phrase', 'N\\n'), ('\\xe8\\x91\\xa6', 'set_phrase', 'N\\n'), ('\\xe5\\xb8\\xb6', 'set_phrase', 'N\\n'), ('\\xe8\\xa7\\xa3', 'verb', 'N\\n')]\n",
      "('\\xe6\\xa5\\x8a', 'noun', 'N\\n')\n",
      "<type 'str'>\n"
     ]
    }
   ],
   "source": [
    "#print \"training data set\"\n",
    "print train_sents[0]\n",
    "#print \"test data set\"\n",
    "print test_sents[0][0]\n",
    "print type(test_sents[0][0][0])"
   ]
  },
  {
   "cell_type": "markdown",
   "metadata": {},
   "source": [
    "## Features\n",
    "\n",
    "Next, define some features. In this example we use word identity, word suffix, word shape and word POS tag; also, some information from nearby words is used. \n",
    "\n",
    "This makes a simple baseline, but you certainly can add and remove some features to get (much?) better results - experiment with it.\n",
    "\n",
    "sklearn-crfsuite (and python-crfsuite) supports several feature formats; here we use feature dicts."
   ]
  },
  {
   "cell_type": "code",
   "execution_count": 6,
   "metadata": {
    "collapsed": true
   },
   "outputs": [],
   "source": [
    "def word2features(sent, i):\n",
    "    word = sent[i][0]\n",
    "    postag = sent[i][1]\n",
    "    \n",
    "    features = {\n",
    "        'bias': 1.0,\n",
    "        #'word.lower()': word.lower(),\n",
    "        'word[-3:]': word[-3:],\n",
    "        'word[-2:]': word[-2:],\n",
    "        #'word.isupper()': word.isupper(),\n",
    "        #'word.istitle()': word.istitle(),\n",
    "        #'word.isdigit()': word.isdigit(),\n",
    "        #'postag': postag,\n",
    "        #'postag[:2]': postag[:2],        \n",
    "    }\n",
    "    if i > 0:\n",
    "        word1 = sent[i-1][0]\n",
    "        postag1 = sent[i-1][1]\n",
    "        features.update({\n",
    "        #    '-1:word.lower()': word1.lower(),\n",
    "        #    '-1:word.istitle()': word1.istitle(),\n",
    "        #    '-1:word.isupper()': word1.isupper(),\n",
    "            '-1:postag': postag1,\n",
    "            '-1:postag[:2]': postag1[:2],\n",
    "        })\n",
    "    else:\n",
    "        features['BOS'] = True\n",
    "        \n",
    "    if i < len(sent)-1:\n",
    "        word1 = sent[i+1][0]\n",
    "        postag1 = sent[i+1][1]\n",
    "        features.update({\n",
    "        #    '+1:word.lower()': word1.lower(),\n",
    "        #    '+1:word.istitle()': word1.istitle(),\n",
    "        #    '+1:word.isupper()': word1.isupper(),\n",
    "            '+1:postag': postag1,\n",
    "            '+1:postag[:2]': postag1[:2],\n",
    "        })\n",
    "    else:\n",
    "        features['EOS'] = True\n",
    "                \n",
    "    return features\n",
    "\n",
    "\n",
    "def sent2features(sent):\n",
    "    return [word2features(sent, i) for i in range(len(sent))]\n",
    "\n",
    "def sent2labels(sent):\n",
    "    return [label for token, postag, label in sent]\n",
    "\n",
    "def sent2tokens(sent):\n",
    "    return [token for token, postag, label in sent]"
   ]
  },
  {
   "cell_type": "markdown",
   "metadata": {},
   "source": [
    "This is what word2features extracts:"
   ]
  },
  {
   "cell_type": "code",
   "execution_count": 7,
   "metadata": {
    "collapsed": false
   },
   "outputs": [
    {
     "data": {
      "text/plain": [
       "{'+1:postag': ('\\xe5\\xaf\\x9f', 'noun', 'N\\n'),\n",
       " '+1:postag[:2]': ('\\xe5\\xaf\\x9f', 'noun'),\n",
       " 'BOS': True,\n",
       " 'bias': 1.0,\n",
       " 'word[-2:]': ('noun', 'N\\n'),\n",
       " 'word[-3:]': ('\\xe8\\xa7\\x80', 'noun', 'N\\n')}"
      ]
     },
     "execution_count": 7,
     "metadata": {},
     "output_type": "execute_result"
    }
   ],
   "source": [
    "sent2features(segmented_corpus_dic)[0]"
   ]
  },
  {
   "cell_type": "markdown",
   "metadata": {},
   "source": [
    "Extract features from the data:"
   ]
  },
  {
   "cell_type": "code",
   "execution_count": 8,
   "metadata": {
    "collapsed": false
   },
   "outputs": [
    {
     "name": "stdout",
     "output_type": "stream",
     "text": [
      "CPU times: user 26.3 s, sys: 3.78 s, total: 30 s\n",
      "Wall time: 32.6 s\n"
     ]
    }
   ],
   "source": [
    "%%time\n",
    "X_train = [sent2features(s) for s in train_sents]\n",
    "y_train = [sent2labels(s) for s in train_sents]\n",
    "\n",
    "X_test = [sent2features(s) for s in test_sents]\n",
    "y_test = [sent2labels(s) for s in test_sents]"
   ]
  },
  {
   "cell_type": "markdown",
   "metadata": {},
   "source": [
    "## Training\n",
    "\n",
    "To see all possible CRF parameters check its docstring. Here we are useing L-BFGS training algorithm (it is default) with Elastic Net (L1 + L2) regularization."
   ]
  },
  {
   "cell_type": "code",
   "execution_count": 9,
   "metadata": {
    "collapsed": false
   },
   "outputs": [
    {
     "name": "stdout",
     "output_type": "stream",
     "text": [
      "CPU times: user 36.5 s, sys: 8.48 s, total: 45 s\n",
      "Wall time: 1min 2s\n"
     ]
    }
   ],
   "source": [
    "%%time\n",
    "crf = sklearn_crfsuite.CRF(\n",
    "    algorithm='lbfgs', \n",
    "    c1=0.1, \n",
    "    c2=0.1, \n",
    "    max_iterations=100, \n",
    "    all_possible_transitions=True\n",
    ")\n",
    "crf.fit(X_train, y_train)"
   ]
  },
  {
   "cell_type": "markdown",
   "metadata": {},
   "source": [
    "## Evaluation\n",
    "\n",
    "There is much more O entities in data set, but we're more interested in other entities. To account for this we'll use averaged F1 score computed for all labels except for O. ``sklearn-crfsuite.metrics`` package provides some useful metrics for sequence classification task, including this one."
   ]
  },
  {
   "cell_type": "code",
   "execution_count": 10,
   "metadata": {
    "collapsed": false
   },
   "outputs": [
    {
     "data": {
      "text/plain": [
       "['N\\n']"
      ]
     },
     "execution_count": 10,
     "metadata": {},
     "output_type": "execute_result"
    }
   ],
   "source": [
    "labels = list(crf.classes_)\n",
    "#labels.remove('O')\n",
    "labels"
   ]
  },
  {
   "cell_type": "code",
   "execution_count": 11,
   "metadata": {
    "collapsed": false
   },
   "outputs": [
    {
     "data": {
      "text/plain": [
       "1.0"
      ]
     },
     "execution_count": 11,
     "metadata": {},
     "output_type": "execute_result"
    }
   ],
   "source": [
    "y_pred = crf.predict(X_test)\n",
    "metrics.flat_f1_score(y_test, y_pred, \n",
    "                      average='weighted', labels=labels)"
   ]
  },
  {
   "cell_type": "markdown",
   "metadata": {},
   "source": [
    "Inspect per-class results in more detail:"
   ]
  },
  {
   "cell_type": "code",
   "execution_count": 12,
   "metadata": {
    "collapsed": false
   },
   "outputs": [
    {
     "name": "stdout",
     "output_type": "stream",
     "text": [
      "             precision    recall  f1-score   support\n",
      "\n",
      "         N\n",
      "      1.000     1.000     1.000   4485180\n",
      "\n",
      "avg / total      1.000     1.000     1.000   4485180\n",
      "\n"
     ]
    }
   ],
   "source": [
    "# group B and I results\n",
    "sorted_labels = sorted(\n",
    "    labels, \n",
    "    key=lambda name: (name[1:], name[0])\n",
    ")\n",
    "print(metrics.flat_classification_report(\n",
    "    y_test, y_pred, labels=sorted_labels, digits=3\n",
    "))"
   ]
  },
  {
   "cell_type": "markdown",
   "metadata": {},
   "source": [
    "## Hyperparameter Optimization\n",
    "\n",
    "To improve quality try to select regularization parameters using randomized search and 3-fold cross-validation.\n",
    "\n",
    "I takes quite a lot of CPU time and RAM (we're fitting a model ``50 * 3 = 150`` times), so grab a tea and be patient, or reduce n_iter in RandomizedSearchCV, or fit model only on a subset of training data."
   ]
  },
  {
   "cell_type": "code",
   "execution_count": null,
   "metadata": {
    "collapsed": false
   },
   "outputs": [
    {
     "name": "stdout",
     "output_type": "stream",
     "text": [
      "Fitting 3 folds for each of 50 candidates, totalling 150 fits\n"
     ]
    }
   ],
   "source": [
    "%%time\n",
    "# define fixed parameters and parameters to search\n",
    "crf = sklearn_crfsuite.CRF(\n",
    "    algorithm='lbfgs', \n",
    "    max_iterations=100, \n",
    "    all_possible_transitions=True\n",
    ")\n",
    "params_space = {\n",
    "    'c1': scipy.stats.expon(scale=0.5),\n",
    "    'c2': scipy.stats.expon(scale=0.05),\n",
    "}\n",
    "\n",
    "# use the same metric for evaluation\n",
    "f1_scorer = make_scorer(metrics.flat_f1_score, \n",
    "                        average='weighted', labels=labels)\n",
    "\n",
    "# search\n",
    "rs = RandomizedSearchCV(crf, params_space, \n",
    "                        cv=3, \n",
    "                        verbose=1, \n",
    "                        n_jobs=-1, \n",
    "                        n_iter=50, \n",
    "                        scoring=f1_scorer)\n",
    "rs.fit(X_train, y_train)"
   ]
  },
  {
   "cell_type": "markdown",
   "metadata": {},
   "source": [
    "Best result:"
   ]
  },
  {
   "cell_type": "code",
   "execution_count": null,
   "metadata": {
    "collapsed": false
   },
   "outputs": [],
   "source": [
    "# crf = rs.best_estimator_\n",
    "print('best params:', rs.best_params_)\n",
    "print('best CV score:', rs.best_score_)\n",
    "print('model size: {:0.2f}M'.format(rs.best_estimator_.size_ / 1000000))"
   ]
  },
  {
   "cell_type": "markdown",
   "metadata": {},
   "source": [
    "### Check parameter space\n",
    "\n",
    "A chart which shows which ``c1`` and ``c2`` values have RandomizedSearchCV checked. Red color means better results, blue means worse."
   ]
  },
  {
   "cell_type": "code",
   "execution_count": null,
   "metadata": {
    "collapsed": false
   },
   "outputs": [],
   "source": [
    "_x = [s.parameters['c1'] for s in rs.grid_scores_]\n",
    "_y = [s.parameters['c2'] for s in rs.grid_scores_]\n",
    "_c = [s.mean_validation_score for s in rs.grid_scores_]\n",
    "\n",
    "fig = plt.figure()\n",
    "fig.set_size_inches(12, 12)\n",
    "ax = plt.gca()\n",
    "ax.set_yscale('log')\n",
    "ax.set_xscale('log')\n",
    "ax.set_xlabel('C1')\n",
    "ax.set_ylabel('C2')\n",
    "ax.set_title(\"Randomized Hyperparameter Search CV Results (min={:0.3}, max={:0.3})\".format(\n",
    "    min(_c), max(_c)\n",
    "))\n",
    "\n",
    "ax.scatter(_x, _y, c=_c, s=60, alpha=0.9, edgecolors=[0,0,0])\n",
    "\n",
    "print(\"Dark blue => {:0.4}, dark red => {:0.4}\".format(min(_c), max(_c)))"
   ]
  },
  {
   "cell_type": "markdown",
   "metadata": {},
   "source": [
    "## Check best estimator on our test data\n",
    "\n",
    "As you can see, quality is improved."
   ]
  },
  {
   "cell_type": "code",
   "execution_count": null,
   "metadata": {
    "collapsed": false
   },
   "outputs": [],
   "source": [
    "crf = rs.best_estimator_\n",
    "y_pred = crf.predict(X_test)\n",
    "print(metrics.flat_classification_report(\n",
    "    y_test, y_pred, labels=sorted_labels, digits=3\n",
    "))"
   ]
  },
  {
   "cell_type": "markdown",
   "metadata": {},
   "source": [
    "## Let's check what classifier learned"
   ]
  },
  {
   "cell_type": "code",
   "execution_count": null,
   "metadata": {
    "collapsed": false
   },
   "outputs": [],
   "source": [
    "from collections import Counter\n",
    "\n",
    "def print_transitions(trans_features):\n",
    "    for (label_from, label_to), weight in trans_features:\n",
    "        print(\"%-6s -> %-7s %0.6f\" % (label_from, label_to, weight))\n",
    "\n",
    "print(\"Top likely transitions:\")\n",
    "print_transitions(Counter(crf.transition_features_).most_common(20))\n",
    "\n",
    "print(\"\\nTop unlikely transitions:\")\n",
    "print_transitions(Counter(crf.transition_features_).most_common()[-20:])"
   ]
  },
  {
   "cell_type": "markdown",
   "metadata": {},
   "source": [
    "We can see that, for example, it is very likely that the beginning of an organization name (B-ORG) will be followed by a token inside organization name (I-ORG), but transitions to I-ORG from tokens with other labels are penalized.\n",
    "\n",
    "Check the state features:"
   ]
  },
  {
   "cell_type": "code",
   "execution_count": null,
   "metadata": {
    "collapsed": false
   },
   "outputs": [],
   "source": [
    "def print_state_features(state_features):\n",
    "    for (attr, label), weight in state_features:\n",
    "        print(\"%0.6f %-8s %s\" % (weight, label, attr))    \n",
    "\n",
    "print(\"Top positive:\")\n",
    "print_state_features(Counter(crf.state_features_).most_common(30))\n",
    "\n",
    "print(\"\\nTop negative:\")\n",
    "print_state_features(Counter(crf.state_features_).most_common()[-30:])"
   ]
  },
  {
   "cell_type": "markdown",
   "metadata": {},
   "source": [
    "\n",
    "\n",
    "Some observations:\n",
    "\n",
    "   * **9.385823 B-ORG word.lower():psoe-progresistas** - the model remembered names of some entities - maybe it is overfit, or maybe our features are not adequate, or maybe remembering is indeed helpful;\n",
    "   * **4.636151 I-LOC -1:word.lower():calle:** \"calle\" is a street in Spanish; model learns that if a previous word was \"calle\" then the token is likely a part of location;\n",
    "   * **-5.632036 O word.isupper()**, **-8.215073 O word.istitle()** : UPPERCASED or TitleCased words are likely entities of some kind;\n",
    "   * **-2.097561 O postag:NP** - proper nouns (NP is a proper noun in the Spanish tagset) are often entities.\n",
    "\n",
    "What to do next\n",
    "\n",
    "    * Load 'testa' Spanish data.\n",
    "    * Use it to develop better features and to find best model parameters.\n",
    "    * Apply the model to 'testb' data again.\n",
    "\n",
    "The model in this notebook is just a starting point; you certainly can do better!\n",
    "\n"
   ]
  },
  {
   "cell_type": "code",
   "execution_count": null,
   "metadata": {
    "collapsed": true
   },
   "outputs": [],
   "source": []
  }
 ],
 "metadata": {
  "kernelspec": {
   "display_name": "Python 2",
   "language": "python",
   "name": "python2"
  },
  "language_info": {
   "codemirror_mode": {
    "name": "ipython",
    "version": 2
   },
   "file_extension": ".py",
   "mimetype": "text/x-python",
   "name": "python",
   "nbconvert_exporter": "python",
   "pygments_lexer": "ipython2",
   "version": "2.7.13"
  }
 },
 "nbformat": 4,
 "nbformat_minor": 0
}
